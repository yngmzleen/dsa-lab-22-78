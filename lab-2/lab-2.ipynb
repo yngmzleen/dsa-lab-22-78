{
 "cells": [
  {
   "cell_type": "markdown",
   "metadata": {},
   "source": [
    "ЗАДАНИЕ 1.1"
   ]
  },
  {
   "cell_type": "markdown",
   "metadata": {},
   "source": [
    "№1. Считать с клавиатуры три произвольных числа, найти минимальное\n",
    "среди них и вывести на экран"
   ]
  },
  {
   "cell_type": "code",
   "execution_count": 1,
   "metadata": {},
   "outputs": [
    {
     "name": "stdout",
     "output_type": "stream",
     "text": [
      "Минимальное число из введенных:  3\n"
     ]
    }
   ],
   "source": [
    "n1 = input('Введите первое число: ')\n",
    "n2 = input('Введите второе число число: ')\n",
    "n3 = input('Введите третье число: ')\n",
    "\n",
    "min = min(n1, n2, n3)\n",
    "\n",
    "print('Минимальное число из введенных: ', min)\n"
   ]
  },
  {
   "cell_type": "markdown",
   "metadata": {},
   "source": [
    "№2. Считать с клавиатуры три произвольных числа, вывести в консоль\n",
    "те числа, которые попадают в интервал [1, 50]."
   ]
  },
  {
   "cell_type": "code",
   "execution_count": 6,
   "metadata": {},
   "outputs": [
    {
     "name": "stdout",
     "output_type": "stream",
     "text": [
      "Числа в интервале от 1 до 50:  [50, 49]\n"
     ]
    }
   ],
   "source": [
    "n1 = int(input('Введите первое число: '))\n",
    "n2 = int(input('Введите второе число число: '))\n",
    "n3 = int(input('Введите третье число: '))\n",
    "\n",
    "nums = [n1, n2, n3]\n",
    "interval = [num for num in nums if 1 <= num <= 50]\n",
    "\n",
    "print('Числа в интервале от 1 до 50: ', interval)"
   ]
  },
  {
   "cell_type": "markdown",
   "metadata": {},
   "source": [
    "№3. Считать с клавиатуры вещественное число m. Посчитать и вывести в\n",
    "консоль каждый член последовательности:\n",
    "[(1 * m), (2 * m), (3 * m), ..., (10 * m)].\n",
    "Решить задачу используя циклическую конструкцию for.\n"
   ]
  },
  {
   "cell_type": "code",
   "execution_count": 1,
   "metadata": {},
   "outputs": [
    {
     "name": "stdout",
     "output_type": "stream",
     "text": [
      "1 * 7 = 7\n",
      "2 * 7 = 77\n",
      "3 * 7 = 777\n",
      "4 * 7 = 7777\n",
      "5 * 7 = 77777\n",
      "6 * 7 = 777777\n",
      "7 * 7 = 7777777\n",
      "8 * 7 = 77777777\n",
      "9 * 7 = 777777777\n",
      "10 * 7 = 7777777777\n"
     ]
    }
   ],
   "source": [
    "m = input(\"Введите число m: \")\n",
    "\n",
    "for i in range(1, 11):\n",
    "    print(f\"{i} * {m} = {i * m}\")"
   ]
  },
  {
   "cell_type": "markdown",
   "metadata": {},
   "source": [
    "№4. Считать с клавиатуры непустую произвольную последовательность\n",
    "целых чисел. Найти:\n",
    "i. Сумму всех чисел последовательности (решить задачу\n",
    "используя циклическую конструкцию while)\n",
    "ii. Количество всех чисел последовательности (решить задачу\n",
    "используя циклическую конструкцию while)"
   ]
  },
  {
   "cell_type": "code",
   "execution_count": 8,
   "metadata": {},
   "outputs": [
    {
     "name": "stdout",
     "output_type": "stream",
     "text": [
      "Введите числа последовательности:\n",
      "Сумма всех чисел: 16\n",
      "Количество чисел: 4\n"
     ]
    }
   ],
   "source": [
    "sum_numbers = 0\n",
    "count = 0\n",
    "print(\"Введите числа последовательности:\")\n",
    "\n",
    "while True:\n",
    "    user_input = input()\n",
    "    \n",
    "    if user_input == \"\":\n",
    "        break\n",
    "\n",
    "    # Преобразуем строку в число и добавляем к сумме\n",
    "    number = int(user_input)\n",
    "    sum_numbers += number\n",
    "    count += 1\n",
    "\n",
    "print(f\"Сумма всех чисел: {sum_numbers}\")\n",
    "print(f\"Количество чисел: {count}\")"
   ]
  },
  {
   "cell_type": "markdown",
   "metadata": {},
   "source": [
    "ЗАДАНИЕ 2.8"
   ]
  },
  {
   "cell_type": "markdown",
   "metadata": {},
   "source": [
    "1. Считать с клавиатуры произвольную строку.\n",
    "2. Вывести количество слов в строке."
   ]
  },
  {
   "cell_type": "code",
   "execution_count": 5,
   "metadata": {},
   "outputs": [
    {
     "name": "stdout",
     "output_type": "stream",
     "text": [
      "Введенная строка:\n",
      "сегодня я купил баунти\n",
      "Количество слов в строке: 4\n"
     ]
    }
   ],
   "source": [
    "text = input(\"Введите предложение: \")\n",
    "\n",
    "word_count = 0  \n",
    "in_word = False    #флаг, находимся ли мы внутри слова\n",
    "i = 0 \n",
    "\n",
    "while i < len(text):\n",
    "    # если текущий символ не пробел\n",
    "    if text[i] != ' ':\n",
    "        # если мы не были внутри слова, значит начинается новое слово\n",
    "        if not in_word:\n",
    "            word_count += 1\n",
    "            in_word = True\n",
    "    else:\n",
    "        # если встретили пробел, значит слово закончилось\n",
    "        in_word = False\n",
    "    i += 1\n",
    "\n",
    "print(f\"Введенная строка:\\n{text}\")\n",
    "print(f\"Количество слов в строке: {word_count}\")"
   ]
  },
  {
   "cell_type": "markdown",
   "metadata": {},
   "source": [
    "ЗАДАНИЕ 3.8"
   ]
  },
  {
   "cell_type": "markdown",
   "metadata": {},
   "source": [
    "1. Считать из параметров командной строки одномерный массив,\n",
    "состоящий из N целочисленных элементов.\n",
    "2. Вывести в консоль сумму элементов списка.\n",
    "3. Вывести в консоль произведение элементов списка.\n",
    "4. Заменить все нулевые элементы на среднее арифметическое всех\n",
    "элементов массива. Вывести результат в консоль.\n"
   ]
  },
  {
   "cell_type": "code",
   "execution_count": 6,
   "metadata": {},
   "outputs": [
    {
     "name": "stdout",
     "output_type": "stream",
     "text": [
      "Введите элементы массива по одному.\n",
      "Для завершения ввода нажмите Enter без ввода числа:\n",
      "Сумма элементов: 19\n",
      "Произведение элементов: 210\n",
      "Массив после замены нулей на среднее арифметическое (3.1666666666666665): [1, 2, 5, 1, 3, 7]\n"
     ]
    }
   ],
   "source": [
    "print(\"Введите элементы массива\")\n",
    "\n",
    "numbers = [] \n",
    "\n",
    "# считываем числа в массив\n",
    "while True:\n",
    "    user_input = input()\n",
    "    if user_input == \"\":\n",
    "        break\n",
    "    numbers.append(int(user_input))\n",
    "\n",
    "sum_elements = 0\n",
    "i = 0\n",
    "while i < len(numbers):\n",
    "    sum_elements += numbers[i]\n",
    "    i += 1\n",
    "\n",
    "print(f\"Сумма элементов: {sum_elements}\")\n",
    "\n",
    "# произведение элементов\n",
    "product_elements = 1\n",
    "i = 0\n",
    "while i < len(numbers):\n",
    "    product_elements *= numbers[i]\n",
    "    i += 1\n",
    "\n",
    "print(f\"Произведение элементов: {product_elements}\")\n",
    "\n",
    "# среднее арифметическое\n",
    "if len(numbers) > 0: \n",
    "    average = sum_elements / len(numbers)\n",
    "\n",
    "    i = 0\n",
    "    while i < len(numbers):\n",
    "        if numbers[i] == 0:\n",
    "            numbers[i] = average\n",
    "        i += 1\n",
    "\n",
    "    print(f\"Массив после замены нулей на среднее арифметическое ({average}): {numbers}\")\n",
    "else:\n",
    "    print(\"Массив пуст!\")"
   ]
  }
 ],
 "metadata": {
  "kernelspec": {
   "display_name": "Python 3",
   "language": "python",
   "name": "python3"
  },
  "language_info": {
   "codemirror_mode": {
    "name": "ipython",
    "version": 3
   },
   "file_extension": ".py",
   "mimetype": "text/x-python",
   "name": "python",
   "nbconvert_exporter": "python",
   "pygments_lexer": "ipython3",
   "version": "3.13.1"
  },
  "orig_nbformat": 4
 },
 "nbformat": 4,
 "nbformat_minor": 2
}
