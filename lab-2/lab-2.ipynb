{
 "cells": [
  {
   "cell_type": "markdown",
   "metadata": {},
   "source": [
    "ЗАДАНИЕ 1.1"
   ]
  },
  {
   "cell_type": "markdown",
   "metadata": {},
   "source": [
    "№1. Считать с клавиатуры три произвольных числа, найти минимальное\n",
    "среди них и вывести на экран"
   ]
  },
  {
   "cell_type": "code",
   "execution_count": 1,
   "metadata": {},
   "outputs": [
    {
     "name": "stdout",
     "output_type": "stream",
     "text": [
      "Минимальное число из введенных:  3\n"
     ]
    }
   ],
   "source": [
    "n1 = input('Введите первое число: ')\n",
    "n2 = input('Введите второе число число: ')\n",
    "n3 = input('Введите третье число: ')\n",
    "\n",
    "min = min(n1, n2, n3)\n",
    "\n",
    "print('Минимальное число из введенных: ', min)\n"
   ]
  },
  {
   "cell_type": "markdown",
   "metadata": {},
   "source": [
    "№2. Считать с клавиатуры три произвольных числа, вывести в консоль\n",
    "те числа, которые попадают в интервал [1, 50]."
   ]
  },
  {
   "cell_type": "code",
   "execution_count": 6,
   "metadata": {},
   "outputs": [
    {
     "name": "stdout",
     "output_type": "stream",
     "text": [
      "Числа в интервале от 1 до 50:  [50, 49]\n"
     ]
    }
   ],
   "source": [
    "n1 = int(input('Введите первое число: '))\n",
    "n2 = int(input('Введите второе число число: '))\n",
    "n3 = int(input('Введите третье число: '))\n",
    "\n",
    "nums = [n1, n2, n3]\n",
    "interval = [num for num in nums if 1 <= num <= 50]\n",
    "\n",
    "print('Числа в интервале от 1 до 50: ', interval)"
   ]
  },
  {
   "cell_type": "markdown",
   "metadata": {},
   "source": [
    "№3. Считать с клавиатуры вещественное число m. Посчитать и вывести в\n",
    "консоль каждый член последовательности:\n",
    "[(1 * m), (2 * m), (3 * m), ..., (10 * m)].\n",
    "Решить задачу используя циклическую конструкцию for.\n"
   ]
  },
  {
   "cell_type": "code",
   "execution_count": 4,
   "metadata": {},
   "outputs": [
    {
     "name": "stdout",
     "output_type": "stream",
     "text": [
      "1 * 5 = 5\n",
      "2 * 5 = 55\n",
      "3 * 5 = 555\n",
      "4 * 5 = 5555\n",
      "5 * 5 = 55555\n",
      "6 * 5 = 555555\n",
      "7 * 5 = 5555555\n",
      "8 * 5 = 55555555\n",
      "9 * 5 = 555555555\n",
      "10 * 5 = 5555555555\n"
     ]
    }
   ],
   "source": [
    "m = input(\"Введите число m: \")\n",
    "\n",
    "for i in range(1, 11):\n",
    "    print(f\"{i} * {m} = {i * m}\")"
   ]
  },
  {
   "cell_type": "markdown",
   "metadata": {},
   "source": [
    "№4. Считать с клавиатуры непустую произвольную последовательность\n",
    "целых чисел. Найти:\n",
    "i. Сумму всех чисел последовательности (решить задачу\n",
    "используя циклическую конструкцию while)\n",
    "ii. Количество всех чисел последовательности (решить задачу\n",
    "используя циклическую конструкцию while)"
   ]
  },
  {
   "cell_type": "code",
   "execution_count": null,
   "metadata": {},
   "outputs": [],
   "source": []
  }
 ],
 "metadata": {
  "kernelspec": {
   "display_name": "Python 3.10.6 64-bit",
   "language": "python",
   "name": "python3"
  },
  "language_info": {
   "codemirror_mode": {
    "name": "ipython",
    "version": 3
   },
   "file_extension": ".py",
   "mimetype": "text/x-python",
   "name": "python",
   "nbconvert_exporter": "python",
   "pygments_lexer": "ipython3",
   "version": "3.10.6"
  },
  "orig_nbformat": 4,
  "vscode": {
   "interpreter": {
    "hash": "83360eb80970754e3f174cfff64abb63721e9cdafa2962942bde9f2f2b190412"
   }
  }
 },
 "nbformat": 4,
 "nbformat_minor": 2
}
